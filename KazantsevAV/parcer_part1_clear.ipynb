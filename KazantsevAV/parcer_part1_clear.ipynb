{
  "nbformat": 4,
  "nbformat_minor": 0,
  "metadata": {
    "colab": {
      "provenance": [],
      "collapsed_sections": [
        "xDPY7jl-gUVx",
        "UIA1jdSKe9_y",
        "x4ooqZ2rfMwf",
        "yr1-SCN5gN_h",
        "KRIAK72dgbng"
      ],
      "mount_file_id": "1Kdkq2ncsySxEWYDPEJnlcRk3rv-1193n",
      "authorship_tag": "ABX9TyP0fm4x/pK2tp3lZ58Ll0K5",
      "include_colab_link": true
    },
    "kernelspec": {
      "name": "python3",
      "display_name": "Python 3"
    },
    "language_info": {
      "name": "python"
    }
  },
  "cells": [
    {
      "cell_type": "markdown",
      "metadata": {
        "id": "view-in-github",
        "colab_type": "text"
      },
      "source": [
        "<a href=\"https://colab.research.google.com/github/Kuvayasya/Coral_Travel_g/blob/main/KazantsevAV/parcer_part1_clear.ipynb\" target=\"_parent\"><img src=\"https://colab.research.google.com/assets/colab-badge.svg\" alt=\"Open In Colab\"/></a>"
      ]
    },
    {
      "cell_type": "markdown",
      "source": [
        "# СТАРТ"
      ],
      "metadata": {
        "id": "xDPY7jl-gUVx"
      }
    },
    {
      "cell_type": "code",
      "source": [
        "# @title Импортирт библиотек\n",
        "import pandas as pd\n",
        "import numpy as np\n",
        "import gdown\n",
        "import re\n",
        "import random\n",
        "import time\n",
        "\n",
        "from tabulate import tabulate\n",
        "\n",
        "from google.colab import drive\n",
        "drive.mount('/content/drive')"
      ],
      "metadata": {
        "id": "sNgtKZpI23-H",
        "colab": {
          "base_uri": "https://localhost:8080/"
        },
        "outputId": "12574da0-4936-42de-c316-7724aed70e11",
        "cellView": "form"
      },
      "execution_count": 51,
      "outputs": [
        {
          "output_type": "stream",
          "name": "stdout",
          "text": [
            "Drive already mounted at /content/drive; to attempt to forcibly remount, call drive.mount(\"/content/drive\", force_remount=True).\n"
          ]
        }
      ]
    },
    {
      "cell_type": "code",
      "execution_count": 52,
      "metadata": {
        "colab": {
          "base_uri": "https://localhost:8080/"
        },
        "id": "Za_2YXSj0NRo",
        "outputId": "96f48183-01d7-4e7f-da06-845a3b9b8490",
        "cellView": "form"
      },
      "outputs": [
        {
          "output_type": "stream",
          "name": "stderr",
          "text": [
            "/usr/local/lib/python3.10/dist-packages/openpyxl/worksheet/_reader.py:329: UserWarning: Conditional Formatting extension is not supported and will be removed\n",
            "  warn(msg)\n"
          ]
        }
      ],
      "source": [
        "#@title Загрузка датасета \"ТХС_15разд_названия_продуктов_16авг24.xlsx\", присвоение название столбцам и клонирование основного столбца, чистим от NaN\n",
        "\n",
        "# Прямая ссылка на скачивание файла\n",
        "file_url = '/content/drive/MyDrive/Datasets/Стажировка_Чеки/Готово 82т_27sep24.xlsx'\n",
        "\n",
        "# Скачиваем файл\n",
        "# gdown.download(file_url, '100 тыс чеков.xlsx', quiet=False)\n",
        "\n",
        "# Загружаем Excel файл в pandas DataFrame\n",
        "df_part1 = pd.read_excel(file_url)"
      ]
    },
    {
      "cell_type": "markdown",
      "source": [
        "## ФУНКЦИИ"
      ],
      "metadata": {
        "id": "UIA1jdSKe9_y"
      }
    },
    {
      "cell_type": "code",
      "source": [
        "#@title Функция 'split_rows_by_newline(df, column_name)' обработка переноса строки\n",
        "def split_rows_by_newline(df, column_name):\n",
        "\n",
        "    # Создаём новый DataFrame для хранения разделённых строк\n",
        "    new_rows = []\n",
        "\n",
        "    # Итерируем по каждой строке в DataFrame\n",
        "    for index, row in df.iterrows():\n",
        "        cell_value = row[column_name]\n",
        "\n",
        "        # Проверяем, если значение в ячейке является строкой и содержит '\\n'\n",
        "        if isinstance(cell_value, str) and '\\n' in cell_value:\n",
        "            # Разделяем строку по символам переноса строки\n",
        "            split_values = cell_value.split('\\n')\n",
        "\n",
        "            # Для каждого значения после разделения создаём новую строку\n",
        "            for value in split_values:\n",
        "                new_row = row.copy()\n",
        "                new_row[column_name] = value\n",
        "                new_rows.append(new_row)\n",
        "        else:\n",
        "            # Если символов переноса нет, оставляем строку как есть\n",
        "            new_rows.append(row)\n",
        "\n",
        "    # Создаём новый DataFrame из всех строк (старых и новых)\n",
        "    new_df = pd.DataFrame(new_rows)\n",
        "\n",
        "    # Вычисляем количество добавленных строк\n",
        "    added_rows_count = len(new_df) - len(df)\n",
        "\n",
        "    return new_df"
      ],
      "metadata": {
        "id": "MRNiUtBdVFqy",
        "cellView": "form"
      },
      "execution_count": 53,
      "outputs": []
    },
    {
      "cell_type": "code",
      "source": [
        "#@title Функция 'remove_rows_with_newline(df, column_name)' удаления строк с переносом строки\n",
        "def remove_rows_with_newline(df, column_name):\n",
        "\n",
        "    # Фильтруем строки, которые не содержат перенос строки в указанном столбце\n",
        "    filtered_df = df[~df[column_name].astype(str).str.contains('\\n', na=False)]\n",
        "\n",
        "    # Вычисляем количество удалённых строк\n",
        "    removed_rows_count = len(df) - len(filtered_df)\n",
        "\n",
        "    return filtered_df"
      ],
      "metadata": {
        "cellView": "form",
        "id": "3T8Zz8eDHkOg"
      },
      "execution_count": 54,
      "outputs": []
    },
    {
      "cell_type": "code",
      "source": [
        "#@title Функция 'print_random_rows(df, columns, colalignment, symbols=None, showind=False)' печать заданного количества случайных значений\n",
        "def print_random_rows(df, columns, colalignment, symbols=None, showind=False):\n",
        "    # Запрашиваем количество строк для вывода\n",
        "    k = int(input(\"Введите количество для вывода: \"))\n",
        "\n",
        "    # Фильтруем DataFrame по указанным колонкам и удаляем строки с NaN\n",
        "    filtered_df = df[columns].dropna()\n",
        "\n",
        "    # Если передан список символов, фильтруем по ним\n",
        "    if symbols:\n",
        "        # Создаем маску для фильтрации строк, содержащих указанные символы\n",
        "        mask = filtered_df[columns].apply(lambda x: x.str.contains('|'.join(symbols), na=False).any(), axis=1)\n",
        "        filtered_df = filtered_df[mask]\n",
        "\n",
        "    # Проверяем, достаточно ли строк для выборки\n",
        "    if len(filtered_df) < k:\n",
        "        print(f\"В датафрейме недостаточно непустых строк. Доступно: {len(filtered_df)}\")\n",
        "        k = len(filtered_df)  # Устанавливаем k на максимальное доступное количество\n",
        "\n",
        "    # Получаем случайные индексы\n",
        "    index = random.sample(range(len(filtered_df)), k)\n",
        "\n",
        "    # Фильтруем DataFrame по выбранным индексам\n",
        "    df20 = filtered_df.iloc[index]\n",
        "\n",
        "    # Печатаем результат\n",
        "    print(tabulate(df20, headers='keys', tablefmt='pretty', showindex=showind, colalign=colalignment))"
      ],
      "metadata": {
        "id": "ZBOc6ILYSQck",
        "cellView": "form"
      },
      "execution_count": 55,
      "outputs": []
    },
    {
      "cell_type": "code",
      "source": [
        "#@title Функция 'print_random_rows_new(df, columns, colalignment, symbols=None, showind=False)' печать заданного количества случайных значений со сложной структурой запроса\n",
        "def print_random_rows_new(df, columns, colalignment, symbols=None, showind=False,\n",
        "                      sort_column=None, sort_type=None, logic_filter=None, threshold=None):\n",
        "\n",
        "    # Запрашиваем количество строк для вывода\n",
        "    k = int(input(\"Введите количество для вывода: \"))\n",
        "\n",
        "    # Фильтруем DataFrame по указанным колонкам и удаляем строки с NaN\n",
        "    filtered_df = df[columns].dropna()\n",
        "\n",
        "    # Если передан список символов, фильтруем по ним\n",
        "    if symbols:\n",
        "        # Создаем маску для фильтрации строк, содержащих указанные символы\n",
        "        mask = filtered_df[columns].apply(lambda x: x.str.contains('|'.join(symbols), na=False).any(), axis=1)\n",
        "        filtered_df = filtered_df[mask]\n",
        "\n",
        "    # Применяем логический фильтр, если указаны логическое условие и пороговое значение\n",
        "    if logic_filter and threshold is not None and sort_column in columns:\n",
        "        if logic_filter == 'more':\n",
        "            filtered_df = filtered_df[filtered_df[sort_column] > threshold]\n",
        "        elif logic_filter == 'moreandequal':\n",
        "            filtered_df = filtered_df[filtered_df[sort_column] >= threshold]\n",
        "        elif logic_filter == 'less':\n",
        "            filtered_df = filtered_df[filtered_df[sort_column] < threshold]\n",
        "        elif logic_filter == 'lessandequal':\n",
        "            filtered_df = filtered_df[filtered_df[sort_column] <= threshold]\n",
        "\n",
        "    # Проверяем, достаточно ли строк для выборки\n",
        "    if len(filtered_df) < k:\n",
        "        print(f\"В датафрейме недостаточно непустых строк. Доступно: {len(filtered_df)}\")\n",
        "        k = len(filtered_df)  # Устанавливаем k на максимальное доступное количество\n",
        "\n",
        "    # Получаем случайные индексы\n",
        "    index = random.sample(range(len(filtered_df)), k)\n",
        "\n",
        "    # Фильтруем DataFrame по выбранным индексам\n",
        "    df20 = filtered_df.iloc[index]\n",
        "\n",
        "    # Применяем сортировку по столбцу, если указана\n",
        "    if sort_column and sort_column in columns:\n",
        "        if sort_type == 'ltos':  # Сортировка от большего к меньшему\n",
        "            df20 = df20.sort_values(by=sort_column, ascending=False)\n",
        "        elif sort_type == 'stol':  # Сортировка от меньшего к большему\n",
        "            df20 = df20.sort_values(by=sort_column, ascending=True)\n",
        "\n",
        "    # Печатаем результат\n",
        "    print(tabulate(df20, headers='keys', tablefmt='pretty', showindex=showind, colalign=colalignment))"
      ],
      "metadata": {
        "cellView": "form",
        "id": "13AcaSoHg1nC"
      },
      "execution_count": 56,
      "outputs": []
    },
    {
      "cell_type": "code",
      "source": [
        "#@title Функция 'extract_value_and_type(name)' - извлечения значения и типа\n",
        "def extract_value_and_type(name):\n",
        "    weight_pattern = re.compile(r'(\\d+[.,]?\\d*)\\s*(уп|кг|гр|фл|г|мл|л|порц|пак|таб|табл|mg|kg|gr|g|l|ml|шт|pieces|pcs)', re.IGNORECASE)\n",
        "    match = weight_pattern.search(name)\n",
        "    if match:\n",
        "        return match.group(1), match.group(2)\n",
        "    return None, None"
      ],
      "metadata": {
        "id": "kgOuyzQiiSY9",
        "cellView": "form"
      },
      "execution_count": 57,
      "outputs": []
    },
    {
      "cell_type": "code",
      "source": [
        "#@title Функция 'extract_grouped_values(df1, column_name)' поиск сложных ОВХ в (Тип2)\n",
        "def extract_grouped_values(df, column_name):\n",
        "    # Функция для извлечения групп с '/' или '\\' из строки и удаления найденных значений\n",
        "    def extract_group(text):\n",
        "        #if pd.isna(text):  # Проверяем на NaN\n",
        "        #    return ''  # Возвращаем пустую строку\n",
        "        # Регулярное выражение для поиска чисел с '/' или '\\'\n",
        "        matches = re.findall(r'\\d+(?:[.,]?\\d*)*(?:[\\/\\\\]\\d+(?:[.,]?\\d*)*)+', text)\n",
        "        if matches:\n",
        "            # Убираем точки в конце каждого найденного элемента\n",
        "            cleaned_matches = [match.rstrip('.') for match in matches]\n",
        "            # Удаляем найденные значения из текста\n",
        "            # for match in cleaned_matches:\n",
        "            #     text = text.replace(match, '')\n",
        "            # Очищаем текст от лишних пробелов\n",
        "            # text = re.sub(r'\\s+', ' ', text).strip()\n",
        "            return ' '.join(cleaned_matches), text  # Возвращаем найденные значения и обновлённый текст\n",
        "        return None, text.strip()  # Если ничего не найдено, возвращаем пустую строку и очищенный текст\n",
        "\n",
        "    # Применяем функцию к указанному столбцу\n",
        "    df[['Type_fraction', column_name]] = df.apply(\n",
        "        lambda row: pd.Series(extract_group(row[column_name])),\n",
        "        axis=1\n",
        "    )\n",
        "\n",
        "    return df"
      ],
      "metadata": {
        "id": "tVpytzwu2enV",
        "cellView": "form"
      },
      "execution_count": 58,
      "outputs": []
    },
    {
      "cell_type": "code",
      "source": [
        "#@title Функция 'extract_kkal(df1, column_name)' выделение значений Ккал\n",
        "def extract_kkal(df, column_name):\n",
        "    # Функция для извлечения числа перед 'ккал' и удаления найденного значения\n",
        "    def extract_number(text):\n",
        "        if pd.isna(text):  # Проверяем на NaN\n",
        "            return '', text  # Возвращаем пустую строку вместо NaN\n",
        "        # Регулярное выражение для поиска числа перед 'ккал'\n",
        "        match = re.search(r'(\\d+(?:[.,]?\\d*)?)\\s*ккал', text, re.IGNORECASE)\n",
        "        if match:\n",
        "            # Извлекаем значение калорий\n",
        "            kkal_value = float(match.group(1).replace(',', '.'))\n",
        "            # Удаляем найденное значение калорий из текста\n",
        "            # text = text.replace(match.group(0), '')\n",
        "            # Очищаем текст от лишних пробелов\n",
        "            # text = re.sub(r'\\s+', ' ', text).strip()\n",
        "            return kkal_value, text  # Возвращаем значение калорий и очищенный текст\n",
        "        return None, text.strip()  # Если число не найдено, возвращаем None и очищенный текст\n",
        "\n",
        "    # Применяем функцию к указанному столбцу\n",
        "    df[['Energy_Kkal', column_name]] = df[column_name].apply(lambda x: pd.Series(extract_number(x)))\n",
        "\n",
        "    return df"
      ],
      "metadata": {
        "id": "F2Kb1z-f5FLG",
        "cellView": "form"
      },
      "execution_count": 59,
      "outputs": []
    },
    {
      "cell_type": "code",
      "source": [
        "#@title Функция 'extract_and_convert(df, column_name, regex1, regex2, new_column_name, conversion_factor=1)'\n",
        "def extract_and_convert(df, column_name, regex1, regex2, new_column_name, conversion_factor=1):\n",
        "\n",
        "    def extract_value(text):\n",
        "        if pd.isna(text):  # Проверяем на NaN\n",
        "            return None, text  # Возвращаем None и текст без изменений\n",
        "\n",
        "        # Проверяем, содержит ли текст дефис\n",
        "        # if '-' in text:\n",
        "        #    return None, text  # Если да, возвращаем None и текст без изменений\n",
        "\n",
        "        # Ищем и удаляем все комбинации цифр с дефисом\n",
        "        text = re.sub(r'\\d+\\-\\d+', '', text)\n",
        "\n",
        "        # Ищем значение по первому регулярному выражению (число перед regex1)\n",
        "        # match1 = re.search(r'(\\d+[\\.,]?\\d*)\\s*\\b' + regex1 + r'\\b', text)\n",
        "        match1 = re.search(r'(\\d+[\\.,]?\\d*)\\s*' + regex1 + r'\\b', text)\n",
        "        if match1 and match1.group(1) is not None:  # Проверяем, что group(1) не None\n",
        "            value1 = float(match1.group(1).replace(',', '.'))\n",
        "            return round(value1, 3), text  # Если найдено, сразу возвращаем его и прекращаем поиск\n",
        "\n",
        "        # Проверяем второй вариант регулярного выражения для regex1 (число после regex1)\n",
        "        # match2 = re.search(r'\\b' + regex1 + r'\\s*(\\d+[\\.,]?\\d*)', text)\n",
        "        match2 = re.search(r'\\b' + regex1 + r'\\s*(\\d+[\\.,]?\\d*)', text)\n",
        "        if match2 and match2.group(1) is not None:  # Проверяем, что group(1) не None\n",
        "            value2 = float(match2.group(1).replace(',', '.'))\n",
        "            return round(value2, 3), text  # Если найдено, возвращаем и не ищем regex2\n",
        "\n",
        "        # Ищем значение по регулярному выражению regex2 (число перед regex2)\n",
        "        # match3 = re.search(r'(\\d+[\\.,]?\\d*)\\s*\\b' + regex2 + r'\\b', text)\n",
        "        match3 = re.search(r'(\\d+[\\.,]?\\d*)\\s*' + regex2 + r'\\b', text)\n",
        "        if match3 and match3.group(1) is not None:  # Проверяем, что group(1) не None\n",
        "            value3 = float(match3.group(1).replace(',', '.'))\n",
        "            return round(value3 * conversion_factor, 3), text  # Если найдено, возвращаем его\n",
        "\n",
        "        # Проверяем второй вариант для regex2 (число после regex2)\n",
        "        # match4 = re.search(r'\\b' + regex2 + r'\\s*(\\d+[\\.,]?\\d*)', text)\n",
        "        match4 = re.search(r'\\b' + regex2 + r'\\s*(\\d+[\\.,]?\\d*)', text)\n",
        "        if match4 and match4.group(1) is not None:  # Проверяем, что group(1) не None\n",
        "            value4 = float(match4.group(1).replace(',', '.'))\n",
        "            return round(value4 * conversion_factor, 3), text  # Если найдено, возвращаем его\n",
        "\n",
        "        return None, text  # Если ни одно значение не найдено\n",
        "\n",
        "    # Применяем функцию к указанному столбцу\n",
        "    df[[new_column_name, column_name]] = df[column_name].apply(lambda x: pd.Series(extract_value(x)))\n",
        "\n",
        "    return df"
      ],
      "metadata": {
        "id": "UNwls3YXKpD-",
        "cellView": "form"
      },
      "execution_count": 60,
      "outputs": []
    },
    {
      "cell_type": "code",
      "source": [
        "#@title Функция 'extract_percentages(df, column_name, new_column_name)'\n",
        "# Функция для извлечения значений процентов из указанного столбца DataFrame\n",
        "def extract_percentages(df, column_name, new_column_name):\n",
        "    def extract_percentage(text):\n",
        "        if pd.isna(text):  # Проверяем на NaN\n",
        "            return None  # Возвращаем None, если текст пустой\n",
        "\n",
        "        # Ищем значение процента\n",
        "        match = re.search(r'(\\d+[\\.,]?\\d*)\\s*%', text)\n",
        "\n",
        "        if match:\n",
        "            return round(float(match.group(1).replace(',', '.')), 3)  # Возвращаем значение процента\n",
        "\n",
        "        return None  # Если процент не найден, возвращаем None\n",
        "\n",
        "    # Применяем функцию к указанному столбцу и создаём новый столбец\n",
        "    df[new_column_name] = df[column_name].apply(extract_percentage)\n",
        "\n",
        "    return df"
      ],
      "metadata": {
        "cellView": "form",
        "id": "i-V4zvS0W2o3"
      },
      "execution_count": 61,
      "outputs": []
    },
    {
      "cell_type": "code",
      "source": [
        "#@title Функция 'print_random_rows(df)' для вывода случайных строк\n",
        "def print_random_rows(df):\n",
        "    # Запрашиваем количество строк для вывода\n",
        "    k = int(input(\"Введите количество строк для вывода: \"))\n",
        "\n",
        "    # Проверяем, достаточно ли строк в DataFrame\n",
        "    if k > len(df):\n",
        "        print(f\"В DataFrame недостаточно строк. Доступно: {len(df)}\")\n",
        "        k = len(df)  # Устанавливаем k на максимальное доступное количество\n",
        "\n",
        "    # Получаем случайные строки\n",
        "    random_rows = df.sample(n=k, random_state=1)  # random_state для воспроизводимости\n",
        "\n",
        "    # Печатаем результат\n",
        "    print(tabulate(random_rows, headers='keys', tablefmt='pretty'))"
      ],
      "metadata": {
        "id": "daduzd_fYmRC",
        "cellView": "form"
      },
      "execution_count": 62,
      "outputs": []
    },
    {
      "cell_type": "code",
      "source": [
        "#@title Функция 'preprocess_text(text)' приведения текста\n",
        "def preprocess_text(text):\n",
        "    # Приведение текста к нижнему регистру\n",
        "    text = text.lower()\n",
        "\n",
        "    # Удаление веса, объема и цифр (например, \"1 кг\", \"500 мл\", \"75 гр\" и т.д.)\n",
        "    text = re.sub(r'\\b\\d+(\\.\\d+)?\\s*(pieces|литр|litr|pcs|кг|kg|гр|gr|мл|ml|л|l|г|g|шт|%)\\b', ' ', text)\n",
        "\n",
        "    # Удаление цифр и спецсимволов (например, скобки, звездочки и прочее)\n",
        "    text = re.sub(r'[^a-zа-яё\\s]', ' ', text)\n",
        "\n",
        "    # Удаляем все одиночные буквы\n",
        "    text = re.sub(r'\\b[a-zа-яё]\\b', ' ', text)\n",
        "\n",
        "    # Удаление лишних пробелов\n",
        "    text = re.sub(r'\\s+', ' ', text).strip()\n",
        "\n",
        "    return text"
      ],
      "metadata": {
        "id": "xciWYnAEPySF",
        "cellView": "form"
      },
      "execution_count": 63,
      "outputs": []
    },
    {
      "cell_type": "code",
      "source": [
        "# @title Функция 'join_non_empty_values(row)' для соединения значений, пропуская пустые\n",
        "def join_non_empty_values(row):\n",
        "    return ' '.join(str(value) for value in row if pd.notna(value) and value != '')"
      ],
      "metadata": {
        "cellView": "form",
        "id": "2Kq82d2f2pgl"
      },
      "execution_count": 64,
      "outputs": []
    },
    {
      "cell_type": "code",
      "source": [
        "# @title Функция 'replacement_eng_to_rus(df, column_new, column_rep)' замены английских букв на русские\n",
        "def replacement_eng_to_rus(df, column_new, column_rep):\n",
        "    # Создаём словарь для замены\n",
        "    replacement_dict = {\n",
        "        'shh': 'щ', 'shch': 'щ', 'yo': 'ё', 'jo': 'ё',\n",
        "        'zh': 'ж', 'kh': 'х', 'cz': 'ц', 'ts': 'ц',\n",
        "        'tc': 'ц', 'ch': 'ч', 'sh': 'ш', 'eh': 'э',\n",
        "        'yu': 'ю', 'ju': 'ю', 'iu': 'ю', 'ya': 'я',\n",
        "        'ja': 'я', 'a': 'а', 'b': 'б', 'c': 'ц',\n",
        "        'd': 'д', 'e': 'е', 'f': 'ф', 'g': 'г',\n",
        "        'h': 'х', 'i': 'и', 'j': 'й', 'k': 'к',\n",
        "        'l': 'л', 'm': 'м', 'n': 'н', 'o': 'о',\n",
        "        'p': 'п', 'q': 'щ', 'r': 'р', 's': 'с',\n",
        "        't': 'т', 'u': 'у', 'v': 'в', 'w': 'в',\n",
        "        'x': 'кс', 'y': 'й', 'z': 'з'\n",
        "    }\n",
        "\n",
        "    # Заменяем буквы\n",
        "    df[column_new] = df[column_rep].replace(replacement_dict, regex=True)\n",
        "\n",
        "    return df"
      ],
      "metadata": {
        "cellView": "form",
        "id": "xwR1r5ER8KFS"
      },
      "execution_count": 65,
      "outputs": []
    },
    {
      "cell_type": "markdown",
      "source": [
        "## КОД"
      ],
      "metadata": {
        "id": "x4ooqZ2rfMwf"
      }
    },
    {
      "cell_type": "code",
      "source": [
        "#@title Основной код\n",
        "start_time = time.time()  # Начало отсчета времени\n",
        "\n",
        "df_part_own = df_part1.copy()  # Создаём полную копию, чтобы избежать SettingWithCopyWarning\n",
        "\n",
        "df_part_own.columns = ['Name', 'Sub_1', 'Sub_2']  # Назначаем столбцы\n",
        "\n",
        "df_part_own = remove_rows_with_newline(df_part_own, 'Name') # Применяем функцию к DataFrame df_part_own для столбца 'Name'\n",
        "\n",
        "df_part_own.loc[:, 'Name_1'] = df_part_own['Name'].str.lower() # Приводим текст к нижнему регистру\n",
        "\n",
        "df_part_own.loc[:, 'Name'] = df_part_own['Name'].str.replace('=', ' ', regex=False) # Удаление символов \"=\"\n",
        "\n",
        "df_part_own['Name_1'] = df_part_own['Name_1'].str.strip()  # Убираем пробелы в начале и конце\n",
        "\n",
        "df_part_own['Name_1'] = df_part_own['Name_1'].str.replace(r'\\s+', ' ', regex=True)  # Заменяем множественные пробелы на одинарный\n",
        "\n",
        "df_part_own = df_part_own.dropna(axis=1, how='all') # Удаляем пустые столбцы (где все значения NaN)\n",
        "\n",
        "df_part_own = df_part_own.dropna(how='all') # Удаляем строки с пропущенными значениями\n",
        "\n",
        "df_part_own['count'] = df_part_own['Name'].apply(len) # Добавляем новый столбец 'count' с количеством символов в столбце 'Name'\n",
        "\n",
        "df_part_own['Значение'], df_part_own['Тип'] = zip(*df_part_own['Name_1'].apply(extract_value_and_type)) # Заполнение столбцов 'Значение' и 'Тип'\n",
        "\n",
        "df_part_own = extract_grouped_values(df_part_own, 'Name_1') # Заполнение столбца 'Type_fraction'\n",
        "\n",
        "df_part_own = extract_kkal(df_part_own, 'Name_1') # Заполнение столбца 'Energy, Kkal'\n",
        "\n",
        "# Заполнение столбца 'Weight, grams'\n",
        "regex1 = r'гр|gr|г|g'\n",
        "regex2 = r'кг|kg'\n",
        "column = 'Name_1'\n",
        "column_out = 'Weight_grams'\n",
        "conversion_factor = 1000\n",
        "extract_and_convert(df_part_own, column, regex1, regex2, column_out, conversion_factor) # Вызываем функцию 'extract_and_convert(df, column_name, regex1, regex2, new_column_name, conversion_factor)'\n",
        "\n",
        "# Заполнение столбца 'Volume, milliliters'\n",
        "regex1 = r'мл|ml'\n",
        "regex2 = r'литр|л|litr|l'\n",
        "column = 'Name_1'\n",
        "column_out = 'Volume_milliliters'\n",
        "conversion_factor = 1000\n",
        "extract_and_convert(df_part_own, column, regex1, regex2, column_out, conversion_factor) # Вызываем функцию 'extract_and_convert(df, column_name, regex1, regex2, new_column_name, conversion_factor)'\n",
        "\n",
        "# Заполнение столбца 'Percentages, %'\n",
        "column = 'Name_1'\n",
        "column_out = 'Percentages'\n",
        "extract_percentages(df_part_own, column, column_out) # Вызываем функцию 'extract_percentages(df_part_own, column, column_out)'\n",
        "\n",
        "# Заполнение столбца 'Quantity, pcs'\n",
        "regex1 = r'шт'\n",
        "regex2 = r'pieces|pcs'\n",
        "column = 'Name_1'\n",
        "column_out = 'Quantity, pcs'\n",
        "conversion_factor = 1\n",
        "extract_and_convert(df_part_own, column, regex1, regex2, column_out, conversion_factor) # Вызываем функцию 'extract_and_convert(df, column_name, regex1, regex2, new_column_name, conversion_factor)'\n",
        "\n",
        "df_part_own['Name_1'] = df_part_own['Name_1'].apply(preprocess_text) # Применение функции ко всем строкам столбца 'Name_old'\n",
        "\n",
        "df_part_own = df_part_own.dropna(subset=['Name_1']) # Удаляем строки с пустыми значениями в столбце Name_1\n",
        "\n",
        "# Создаем новый столбец Name_2, соединяя значения из указанных столбцов через пробел\n",
        "df_part_own['Name_2'] = df_part_own[['Name_1', 'Значение', 'Тип',\n",
        "                                       'Type_fraction', 'Energy_Kkal',\n",
        "                                       'Weight_grams', 'Volume_milliliters',\n",
        "                                       'Percentages', 'Quantity, pcs']].apply(join_non_empty_values, axis=1)\n",
        "\n",
        "df_part_own['Name_2'] = df_part_own['Name_2'].str.strip()  # Убираем пробелы в начале и конце\n",
        "\n",
        "df_part_own['Name_2'] = df_part_own['Name_2'].str.replace(r'\\s+', ' ', regex=True)  # Заменяем множественные пробелы на одинарный\n",
        "\n",
        "df_part_own['Y'] = np.where(df_part_own['Sub_1'] == 'Несъедобное', 0, 1) # Создаем новый столбец 'Y' с использованием numpy.where\n",
        "\n",
        "df_part_own = replacement_eng_to_rus(df_part_own, 'Name_3', 'Name_1')\n",
        "\n",
        "# Новый порядок столбцов\n",
        "new_order = [\n",
        "    'Name', 'Name_1', 'Name_2', 'Name_3','count', 'Значение', 'Тип',\n",
        "    'Type_fraction', 'Energy_Kkal', 'Weight_grams',\n",
        "    'Volume_milliliters', 'Percentages', 'Quantity, pcs',\n",
        "    'Sub_1', 'Sub_2', 'Y'\n",
        "]\n",
        "\n",
        "\n",
        "\n",
        "df_part_own = df_part_own[new_order] # Устанавливаем новый порядок столбцов\n",
        "df_for_model = df_part_own[['Name', 'Name_1', 'Name_2', 'Name_3', 'Y']].copy() # Сохраняем только нужные столбцы в новом DataFrame\n",
        "\n",
        "end_time = time.time()  # Конец отсчета времени\n",
        "execution_time = end_time - start_time\n",
        "print(f\"Время выполнения: {execution_time:.2f} секунд\")"
      ],
      "metadata": {
        "id": "9NDNSPwBkRK0",
        "colab": {
          "base_uri": "https://localhost:8080/"
        },
        "outputId": "bf6db863-47c1-4186-fc4d-3e2629bc9861"
      },
      "execution_count": 68,
      "outputs": [
        {
          "output_type": "stream",
          "name": "stdout",
          "text": [
            "Время выполнения: 70.12 секунд\n"
          ]
        }
      ]
    },
    {
      "cell_type": "markdown",
      "source": [
        "## СОХРАНЕНИЕ"
      ],
      "metadata": {
        "id": "yr1-SCN5gN_h"
      }
    },
    {
      "cell_type": "code",
      "source": [
        "df_part_own.to_excel('/content/drive/MyDrive/Datasets/Стажировка_Чеки/parcing_result_end.xlsx', index=False) # Сохраняем основной очищенный и подготовленный DataFrame в Excel\n",
        "df_part_own.to_excel('/content/drive/MyDrive/Datasets/Стажировка_Чеки/parcing_result_for_model.xlsx', index=False) # Сохранение подготовленный DataFrameм для обучение бинарной модели в Excel"
      ],
      "metadata": {
        "id": "VSoID-L1_iUw"
      },
      "execution_count": 71,
      "outputs": []
    },
    {
      "cell_type": "markdown",
      "source": [
        "# ПЕЧАТЬ"
      ],
      "metadata": {
        "id": "KRIAK72dgbng"
      }
    },
    {
      "cell_type": "code",
      "source": [
        "# Вызываем функцию\n",
        "print_random_rows(df_part_own)\n",
        "print_random_rows(df_for_model)"
      ],
      "metadata": {
        "colab": {
          "base_uri": "https://localhost:8080/"
        },
        "id": "zhEbC1PpfH4Q",
        "outputId": "7067ce9d-1dad-4ab3-e907-e78c311b6f94"
      },
      "execution_count": 70,
      "outputs": [
        {
          "output_type": "stream",
          "name": "stdout",
          "text": [
            "Введите количество строк для вывода: 20\n",
            "+-------+--------------------------------------------------------------------------+------------------------------------------------------------------+------------------------------------------------------------------+------------------------------------------------------------------+-------+----------+------+---------------+-------------+--------------+--------------------+-------------+---------------+-----------------------------------------------------+------------------------------------------------------------------+---+\n",
            "|       |                                   Name                                   |                              Name_1                              |                              Name_2                              |                              Name_3                              | count | Значение | Тип  | Type_fraction | Energy_Kkal | Weight_grams | Volume_milliliters | Percentages | Quantity, pcs |                        Sub_1                        |                              Sub_2                               | Y |\n",
            "+-------+--------------------------------------------------------------------------+------------------------------------------------------------------+------------------------------------------------------------------+------------------------------------------------------------------+-------+----------+------+---------------+-------------+--------------+--------------------+-------------+---------------+-----------------------------------------------------+------------------------------------------------------------------+---+\n",
            "| 28979 |                       Синафлан-Акрихин мазь 0,025                        |                      синафлан акрихин мазь                       |                      синафлан акрихин мазь                       |                      синафлан акрихин мазь                       |  28   |          |      |               |     nan     |     nan      |        nan         |     nan     |      nan      |                     Несъедобное                     |                           Несъедобное                            | 0 |\n",
            "| 17113 |                  Кофе растворимый \"Нескафе 3 в 1\" 16 г                   |                     кофе растворимый нескафе                     |                  кофе растворимый нескафе 16 г                   |                     кофе растворимый нескафе                     |  37   |    16    |  г   |               |     nan     |     nan      |        nan         |     nan     |      nan      |                  Кофе растворимый                   |         11.1.8 КОФЕ, БЕЗАЛКОГОЛЬНЫЕ (менее 1,5% спирта)          | 1 |\n",
            "| 9691  |                      Мини чиабатта кукурузная Panus                      |                  мини чиабатта кукурузная panus                  |                  мини чиабатта кукурузная panus                  |                  мини чиабатта кукурузная панус                  |  30   |          |      |               |     nan     |     nan      |        nan         |     nan     |      nan      |        Изделия с добавлением кукурузной муки        |               6.9.1 КУЛИНАРНЫЕ ИЗДЕЛИЯ ИЗ КУКУРУЗЫ               | 1 |\n",
            "| 32805 |                       40ШТ NATUR NORM ПР-КИ КВАДРО                       |                     natur norm пр ки квадро                      |                natur norm пр ки квадро 40 шт 40.0                |                     натур норм пр ки квадро                      |  28   |    40    |  шт  |               |     nan     |     nan      |        nan         |     nan     |     40.0      |                     Несъедобное                     |                           Несъедобное                            | 0 |\n",
            "| 62565 |                      Трубочки слоеные с кремом, кг.                      |                    трубочки слоеные кремом кг                    |                    трубочки слоеные кремом кг                    |                    трубочки слоеные кремом кг                    |  30   |          |      |               |     nan     |     nan      |        nan         |     nan     |      nan      |   Пирожное заварное с кремом (трубочка) 10.10.2.6   |      10.10.2 ТОРТЫ И ПИРОЖНЫЕ, МУЧНЫЕ КОНДИТЕРСКИЕ ИЗДЕЛИЯ       | 1 |\n",
            "| 29665 |                          !халиксол таб 30мг n20                          |                         халиксол таб мг                          |                         халиксол таб мг                          |                         халиксол таб мг                          |  22   |          |      |               |     nan     |     nan      |        nan         |     nan     |      nan      |                     Несъедобное                     |                           Несъедобное                            | 0 |\n",
            "| 14558 |                Конфеты Птичье молоко слив-ван. Рот Фронт                 |             конфеты птичье молоко слив ван рот фронт             |             конфеты птичье молоко слив ван рот фронт             |             конфеты птичье молоко слив ван рот фронт             |  41   |          |      |               |     nan     |     nan      |        nan         |     nan     |      nan      |              Конфеты Сбивные 10.9.2.7               |    10.9.2 КОНФЕТЫ ГЛАЗИРОВАННЫЕ ШОКОЛАДОМ С КОРПУСОМ, КОНФЕТЫ    | 1 |\n",
            "| 50224 |                    Содержание общего имущества (СОИ)                     |                 содержание общего имущества сои                  |                 содержание общего имущества сои                  |                 содержание общего имущества сои                  |  33   |          |      |               |     nan     |     nan      |        nan         |     nan     |      nan      |                     Несъедобное                     |                           Несъедобное                            | 0 |\n",
            "| 40717 |                   кетопрофен-верте гель 2.5% 50г туба                    |                    кетопрофен верте гель туба                    |               кетопрофен верте гель туба 50 г 2.5                |                    кетопрофен верте гель туба                    |  35   |    50    |  г   |               |     nan     |     nan      |        nan         |     2.5     |      nan      |                     Несъедобное                     |                           Несъедобное                            | 0 |\n",
            "| 4185  |                         370Г ВАРЕНЬЕ АБРИКОС FL                          |                        варенье абрикос fl                        |                     варенье абрикос fl 370 г                     |                        варенье абрикос фл                        |  23   |   370    |  г   |               |     nan     |     nan      |        nan         |     nan     |      nan      |                 Варенье из абрикос                  |              9.4 ВАРЕНЬЕ, ДЖЕМ, ПОВИДЛО (КОНСЕРВЫ)               | 1 |\n",
            "| 36974 |                       Брюки утепл 3816 1ст-57 (*6)                       |                          брюки утепл ст                          |                          брюки утепл ст                          |                          брюки утепл ст                          |  28   |          |      |               |     nan     |     nan      |        nan         |     nan     |      nan      |                     Несъедобное                     |                           Несъедобное                            | 0 |\n",
            "| 81028 |                    Напиток BURN яблоко киви 0,33л ж/б                    |                     напиток burn яблоко киви                     |                 напиток burn яблоко киви 0,33 л                  |                     напиток бурн яблоко киви                     |  34   |   0,33   |  л   |               |     nan     |     nan      |        nan         |     nan     |      nan      |        Энергетичекий напиток безалкогольный         | 11.1.10 НАПИТКИ ГАЗИРОВАННЫЕ, БЕЗАЛКОГОЛЬНЫЕ (менее 1,5% спирта) | 1 |\n",
            "| 21306 |                 Паста  Болоньезе  с мяс/овощ 330г*10 МТЗ                 |                   паста болоньезе мяс овощ мтз                   |                паста болоньезе мяс овощ мтз 330 г                |                   паста болоньезе мяс овощ мтз                   |  40   |   330    |  г   |               |     nan     |     nan      |        nan         |     nan     |      nan      |      Макароны отварные с мясом и мясным соусом      |               6.11 Кулинарные изделия с макаронами               | 1 |\n",
            "| 68640 |                          Солянка домашняя 1/250                          |                         солянка домашняя                         |                      солянка домашняя 1/250                      |                         солянка домашняя                         |  22   |          |      |     1/250     |     nan     |     nan      |        nan         |     nan     |      nan      | Солянка сборная мясная по 1-168    кулинар 3.5.2.25 |               3.5.2 КУЛИНАРНЫЕ ИЗДЕЛИЯ ИЗ ГОВЯДИНА               | 1 |\n",
            "| 4694  |                          Рулет Домашний 150гр<>                          |                          рулет домашний                          |                   рулет домашний 150 гр 150.0                    |                          рулет домашний                          |  22   |   150    |  гр  |               |     nan     |    150.0     |        nan         |     nan     |      nan      |                       Ветчина                       |               3.6.8 КОЛБАСНЫЕ ПРОДУКТЫ ИЗ СВИНИНЫ                | 1 |\n",
            "| 47333 |                 Провод Госток ПУГНП белый 3*1,5 мм 10 м                  |                   провод госток пугнп белый мм                   |                   провод госток пугнп белый мм                   |                   провод госток пугнп белый мм                   |  39   |          |      |               |     nan     |     nan      |        nan         |     nan     |      nan      |                     Несъедобное                     |                           Несъедобное                            | 0 |\n",
            "| 23741 |                    - БЛИН С СЫРОМ И ВЕТЧИНОЙ  1 порц.                    |                     блин сыром ветчиной порц                     |                 блин сыром ветчиной порц 1 порц                  |                     блин сыром ветчиной порц                     |  34   |    1     | порц |               |     nan     |     nan      |        nan         |     nan     |      nan      |          Мучные изделия с ветчиной и сыром          |         6.1.3.6 КУЛИНАРНЫЕ  ИЗДЕЛИЯ  ИЗ  МУКИ  1  СОРТА          | 1 |\n",
            "| 24215 |            Напиток витам ВитаВера водный баланс 0,5л пэт ОКФ             |           напиток витам витавера водный баланс пэт окф           |        напиток витам витавера водный баланс пэт окф 0,5 л        |           напиток витам витавера водный баланс пэт окф           |  49   |   0,5    |  л   |               |     nan     |     nan      |        nan         |     nan     |      nan      |                 Напитки порционные                  |              11.1.11 НАПИТКИ  БЕЗАЛКОГОЛЬНЫЕ РАЗНЫЕ              | 1 |\n",
            "| 33563 | 94 Восстановление зуба пломбой с нарушением контактного пункта II, III к | восстановление зуба пломбой нарушением контактного пункта ii iii | восстановление зуба пломбой нарушением контактного пункта ii iii | восстановление зуба пломбой нарушением контактного пункта ии иии |  72   |          |      |               |     nan     |     nan      |        nan         |     nan     |      nan      |                     Несъедобное                     |                           Несъедобное                            | 0 |\n",
            "| 67075 |                  СЛИВКИ ПИТЬЕВЫЕ ПАРМАЛАТ 11% ПАЧ 500МЛ                  |                   сливки питьевые пармалат пач                   |          сливки питьевые пармалат пач 500 мл 500.0 11.0          |                   сливки питьевые пармалат пач                   |  38   |   500    |  мл  |               |     nan     |     nan      |       500.0        |    11.0     |      nan      |    Сливки пастеризованные 10,0% жирности 1.3.1.7    |                1.3.1 МОЛОКО,  ЖИРНОСТЬ 3,1-10,0%                 | 1 |\n",
            "+-------+--------------------------------------------------------------------------+------------------------------------------------------------------+------------------------------------------------------------------+------------------------------------------------------------------+-------+----------+------+---------------+-------------+--------------+--------------------+-------------+---------------+-----------------------------------------------------+------------------------------------------------------------------+---+\n",
            "Введите количество строк для вывода: 20\n",
            "+-------+--------------------------------------------------------------------------+------------------------------------------------------------------+------------------------------------------------------------------+------------------------------------------------------------------+---+\n",
            "|       |                                   Name                                   |                              Name_1                              |                              Name_2                              |                              Name_3                              | Y |\n",
            "+-------+--------------------------------------------------------------------------+------------------------------------------------------------------+------------------------------------------------------------------+------------------------------------------------------------------+---+\n",
            "| 28979 |                       Синафлан-Акрихин мазь 0,025                        |                      синафлан акрихин мазь                       |                      синафлан акрихин мазь                       |                      синафлан акрихин мазь                       | 0 |\n",
            "| 17113 |                  Кофе растворимый \"Нескафе 3 в 1\" 16 г                   |                     кофе растворимый нескафе                     |                  кофе растворимый нескафе 16 г                   |                     кофе растворимый нескафе                     | 1 |\n",
            "| 9691  |                      Мини чиабатта кукурузная Panus                      |                  мини чиабатта кукурузная panus                  |                  мини чиабатта кукурузная panus                  |                  мини чиабатта кукурузная панус                  | 1 |\n",
            "| 32805 |                       40ШТ NATUR NORM ПР-КИ КВАДРО                       |                     natur norm пр ки квадро                      |                natur norm пр ки квадро 40 шт 40.0                |                     натур норм пр ки квадро                      | 0 |\n",
            "| 62565 |                      Трубочки слоеные с кремом, кг.                      |                    трубочки слоеные кремом кг                    |                    трубочки слоеные кремом кг                    |                    трубочки слоеные кремом кг                    | 1 |\n",
            "| 29665 |                          !халиксол таб 30мг n20                          |                         халиксол таб мг                          |                         халиксол таб мг                          |                         халиксол таб мг                          | 0 |\n",
            "| 14558 |                Конфеты Птичье молоко слив-ван. Рот Фронт                 |             конфеты птичье молоко слив ван рот фронт             |             конфеты птичье молоко слив ван рот фронт             |             конфеты птичье молоко слив ван рот фронт             | 1 |\n",
            "| 50224 |                    Содержание общего имущества (СОИ)                     |                 содержание общего имущества сои                  |                 содержание общего имущества сои                  |                 содержание общего имущества сои                  | 0 |\n",
            "| 40717 |                   кетопрофен-верте гель 2.5% 50г туба                    |                    кетопрофен верте гель туба                    |               кетопрофен верте гель туба 50 г 2.5                |                    кетопрофен верте гель туба                    | 0 |\n",
            "| 4185  |                         370Г ВАРЕНЬЕ АБРИКОС FL                          |                        варенье абрикос fl                        |                     варенье абрикос fl 370 г                     |                        варенье абрикос фл                        | 1 |\n",
            "| 36974 |                       Брюки утепл 3816 1ст-57 (*6)                       |                          брюки утепл ст                          |                          брюки утепл ст                          |                          брюки утепл ст                          | 0 |\n",
            "| 81028 |                    Напиток BURN яблоко киви 0,33л ж/б                    |                     напиток burn яблоко киви                     |                 напиток burn яблоко киви 0,33 л                  |                     напиток бурн яблоко киви                     | 1 |\n",
            "| 21306 |                 Паста  Болоньезе  с мяс/овощ 330г*10 МТЗ                 |                   паста болоньезе мяс овощ мтз                   |                паста болоньезе мяс овощ мтз 330 г                |                   паста болоньезе мяс овощ мтз                   | 1 |\n",
            "| 68640 |                          Солянка домашняя 1/250                          |                         солянка домашняя                         |                      солянка домашняя 1/250                      |                         солянка домашняя                         | 1 |\n",
            "| 4694  |                          Рулет Домашний 150гр<>                          |                          рулет домашний                          |                   рулет домашний 150 гр 150.0                    |                          рулет домашний                          | 1 |\n",
            "| 47333 |                 Провод Госток ПУГНП белый 3*1,5 мм 10 м                  |                   провод госток пугнп белый мм                   |                   провод госток пугнп белый мм                   |                   провод госток пугнп белый мм                   | 0 |\n",
            "| 23741 |                    - БЛИН С СЫРОМ И ВЕТЧИНОЙ  1 порц.                    |                     блин сыром ветчиной порц                     |                 блин сыром ветчиной порц 1 порц                  |                     блин сыром ветчиной порц                     | 1 |\n",
            "| 24215 |            Напиток витам ВитаВера водный баланс 0,5л пэт ОКФ             |           напиток витам витавера водный баланс пэт окф           |        напиток витам витавера водный баланс пэт окф 0,5 л        |           напиток витам витавера водный баланс пэт окф           | 1 |\n",
            "| 33563 | 94 Восстановление зуба пломбой с нарушением контактного пункта II, III к | восстановление зуба пломбой нарушением контактного пункта ii iii | восстановление зуба пломбой нарушением контактного пункта ii iii | восстановление зуба пломбой нарушением контактного пункта ии иии | 0 |\n",
            "| 67075 |                  СЛИВКИ ПИТЬЕВЫЕ ПАРМАЛАТ 11% ПАЧ 500МЛ                  |                   сливки питьевые пармалат пач                   |          сливки питьевые пармалат пач 500 мл 500.0 11.0          |                   сливки питьевые пармалат пач                   | 1 |\n",
            "+-------+--------------------------------------------------------------------------+------------------------------------------------------------------+------------------------------------------------------------------+------------------------------------------------------------------+---+\n"
          ]
        }
      ]
    }
  ]
}